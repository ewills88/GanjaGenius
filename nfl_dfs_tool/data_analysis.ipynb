{
 "cells": [
  {
   "cell_type": "markdown",
   "metadata": {},
   "source": [
    "# NFL DFS Tool - Exploratory Data Analysis"
   ]
  },
  {
   "cell_type": "code",
   "execution_count": null,
   "metadata": {},
   "outputs": [],
   "source": [
    "import pandas as pd\n",
    "import matplotlib.pyplot as plt\n",
    "import seaborn as sns\n",
    "from sqlalchemy import create_engine\n",
    "\n",
    "# Connect to the database\n",
    "engine = create_engine('sqlite:///nfl_dfs.db')\n",
    "\n",
    "# Load the data\n",
    "df = pd.read_sql_table('players', engine)\n",
    "\n",
    "# Display the first few rows\n",
    "print(df.head())\n",
    "\n",
    "# Basic statistics\n",
    "print(df.describe())\n",
    "\n",
    "# Correlation matrix\n",
    "plt.figure(figsize=(10, 8))\n",
    "sns.heatmap(df.corr(), annot=True, cmap='coolwarm')\n",
    "plt.title('Correlation Matrix')\n",
    "plt.show()\n",
    "\n",
    "# Distribution of predicted points\n",
    "plt.figure(figsize=(10, 6))\n",
    "sns.histplot(data=df, x='predicted_points', hue='position', kde=True)\n",
    "plt.title('Distribution of Predicted Points by Position')\n",
    "plt.show()\n",
    "\n",
    "# Salary vs Predicted Points\n",
    "plt.figure(figsize=(10, 6))\n",
    "sns.scatterplot(data=df, x='salary', y='predicted_points', hue='position')\n",
    "plt.title('Salary vs Predicted Points')\n",
    "plt.show()"
   ]
  }
 ],
 "metadata": {
  "kernelspec": {
   "display_name": "Python 3",
   "language": "python",
   "name": "python3"
  },
  "language_info": {
   "codemirror_mode": {
    "name": "ipython",
    "version": 3
   },
   "file_extension": ".py",
   "mimetype": "text/x-python",
   "name": "python",
   "nbconvert_exporter": "python",
   "pygments_lexer": "ipython3",
   "version": "3.8.5"
  }
 },
 "nbformat": 4,
 "nbformat_minor": 4
}